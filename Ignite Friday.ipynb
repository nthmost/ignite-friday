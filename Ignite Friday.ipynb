{
 "cells": [
  {
   "cell_type": "code",
   "execution_count": 31,
   "metadata": {},
   "outputs": [],
   "source": [
    "# These are popular Python libraries for using data.\n",
    "import pandas as pd\n",
    "from matplotlib import pyplot as plt\n",
    "\n",
    "# A private collection of scripts that will help us collect and shape the data.\n",
    "import wastedspace\n",
    "\n",
    "# Fancy widgets we'll use later to collect user input\n",
    "import ipywidgets as widgets"
   ]
  },
  {
   "cell_type": "code",
   "execution_count": 32,
   "metadata": {},
   "outputs": [],
   "source": [
    "# CREATURE COMPENDIUM\n",
    "# What are the personalities someone could be when they take the test?\n",
    "#"
   ]
  },
  {
   "cell_type": "code",
   "execution_count": 33,
   "metadata": {},
   "outputs": [],
   "source": [
    "# A place to keep the data: simple Python dictionary\n",
    "data = {\"name\":[],\n",
    "        \"agree\":[],\n",
    "        \"energy\":[],\n",
    "        \"ideas\":[],\n",
    "        \"rules\":[],\n",
    "        }"
   ]
  },
  {
   "cell_type": "code",
   "execution_count": 34,
   "metadata": {},
   "outputs": [],
   "source": [
    "# function to append the current user's results.\n",
    "def total(name, agree, energy, ideas, rules):\n",
    "    if not (name and agree and energy and ideas and rules):\n",
    "        # complain!\n",
    "        raise Exception(\"One or more inputs were left blank!\")\n",
    "    \n",
    "    data[\"name\"].append(name)\n",
    "    data[\"agree\"].append(agree)\n",
    "    data[\"energy\"].append(energy)\n",
    "    data[\"ideas\"].append(ideas)\n",
    "    data[\"rules\"].append(rules)"
   ]
  },
  {
   "cell_type": "code",
   "execution_count": 35,
   "metadata": {
    "scrolled": true
   },
   "outputs": [
    {
     "name": "stdout",
     "output_type": "stream",
     "text": [
      "What's your name?\n",
      "Do you agree?\n",
      "Do you have any ideas?\n",
      "What's your energy level right now?\n",
      "How do you feel about rules right now?\n"
     ]
    }
   ],
   "source": [
    "# First stab at a User Interface: using \"input\" to capture information\n",
    "\n",
    "name = input(\"What's your name?\")\n",
    "\n",
    "agree = input(\"Do you agree?\")\n",
    "\n",
    "ideas = input(\"Do you have any ideas?\")\n",
    "\n",
    "energy = input(\"What's your energy level right now?\")\n",
    "\n",
    "rules = input(\"How do you feel about rules right now?\")"
   ]
  },
  {
   "cell_type": "code",
   "execution_count": 36,
   "metadata": {},
   "outputs": [
    {
     "name": "stdout",
     "output_type": "stream",
     "text": [
      "One or more inputs were left blank!\n"
     ]
    }
   ],
   "source": [
    "# Check user input and complain if something was left empty.\n",
    "try:\n",
    "    total(name, agree, energy, ideas, rules)\n",
    "except Exception as err:\n",
    "    print(err)"
   ]
  },
  {
   "cell_type": "code",
   "execution_count": 37,
   "metadata": {},
   "outputs": [
    {
     "data": {
      "text/plain": [
       "{'name': [], 'agree': [], 'energy': [], 'ideas': [], 'rules': []}"
      ]
     },
     "execution_count": 37,
     "metadata": {},
     "output_type": "execute_result"
    }
   ],
   "source": [
    "# Let's look at the data.  Do we like it?\n",
    "# \n",
    "# Tip: If we've made a mess of things we can clear the data easily using the \"clear\" method.\n",
    "# data.clear()\n",
    "\n",
    "data"
   ]
  },
  {
   "cell_type": "code",
   "execution_count": 38,
   "metadata": {},
   "outputs": [
    {
     "name": "stdout",
     "output_type": "stream",
     "text": [
      "Tiny personality quiz!\n",
      "Rank yourself on each metric on a scale from 1 to 4.\n"
     ]
    },
    {
     "data": {
      "application/vnd.jupyter.widget-view+json": {
       "model_id": "20a2df762a8d43d4811cc93e68e18350",
       "version_major": 2,
       "version_minor": 0
      },
      "text/plain": [
       "interactive(children=(IntSlider(value=2, description='agree', max=4, min=1), Output()), _dom_classes=('widget-…"
      ]
     },
     "metadata": {},
     "output_type": "display_data"
    },
    {
     "data": {
      "application/vnd.jupyter.widget-view+json": {
       "model_id": "e5f26f1119e34f3b90a000d9ab1dec68",
       "version_major": 2,
       "version_minor": 0
      },
      "text/plain": [
       "interactive(children=(IntSlider(value=2, description='ideas', max=4, min=1), Output()), _dom_classes=('widget-…"
      ]
     },
     "metadata": {},
     "output_type": "display_data"
    },
    {
     "data": {
      "application/vnd.jupyter.widget-view+json": {
       "model_id": "4d1b3a38d34d4ea4a947f73093aabdb4",
       "version_major": 2,
       "version_minor": 0
      },
      "text/plain": [
       "interactive(children=(IntSlider(value=2, description='energy', max=4, min=1), Output()), _dom_classes=('widget…"
      ]
     },
     "metadata": {},
     "output_type": "display_data"
    },
    {
     "data": {
      "application/vnd.jupyter.widget-view+json": {
       "model_id": "016ade94ff194340b3068cff02ed50a7",
       "version_major": 2,
       "version_minor": 0
      },
      "text/plain": [
       "interactive(children=(IntSlider(value=2, description='rules', max=4, min=1), Output()), _dom_classes=('widget-…"
      ]
     },
     "metadata": {},
     "output_type": "display_data"
    }
   ],
   "source": [
    "# What a pain!\n",
    "# There must be a better way to collect user input. And... there is!\n",
    "#\n",
    "# Instead of telling users they can input whatever they want, we will\n",
    "# CODE their answers by having them select from 4 mapped choices.\n",
    "\n",
    "from ipywidgets import interactive\n",
    "from IPython.display import display\n",
    "\n",
    "# These functions makes the interactive sliders work. \n",
    "def f_agree(agree):\n",
    "    return agree\n",
    "\n",
    "def f_ideas(ideas):\n",
    "    return ideas\n",
    "\n",
    "def f_energy(energy):\n",
    "    return energy\n",
    "\n",
    "def f_rules(rules):\n",
    "    return rules\n",
    "\n",
    "print(\"Tiny personality quiz!\")\n",
    "print(\"Rank yourself on each metric on a scale from 1 to 4.\")\n",
    "\n",
    "# Each slider's min value is 1, and max value is 4\n",
    "# The default value is 2 (we can change that if we want).\n",
    "agree = interactive(f_agree, agree=(1,4))\n",
    "display(agree)\n",
    "\n",
    "ideas = interactive(f_ideas, ideas=(1,4))\n",
    "display(ideas)\n",
    "\n",
    "energy = interactive(f_energy, energy=(1,4))\n",
    "display(energy)\n",
    "\n",
    "rules = interactive(f_rules, rules=(1,4))\n",
    "display(rules)"
   ]
  },
  {
   "cell_type": "code",
   "execution_count": 39,
   "metadata": {},
   "outputs": [
    {
     "name": "stdout",
     "output_type": "stream",
     "text": [
      "2\n",
      "2\n",
      "2\n",
      "2\n"
     ]
    }
   ],
   "source": [
    "# Just to verify that the sliders actually do something...\n",
    "\n",
    "print(agree.result)\n",
    "print(ideas.result)\n",
    "print(energy.result)\n",
    "print(rules.result)"
   ]
  },
  {
   "cell_type": "code",
   "execution_count": null,
   "metadata": {},
   "outputs": [],
   "source": [
    "# We can use our existing \"total\" function without changing it.\n",
    "# And since all of our inputs have default values, we don't have\n",
    "# to worry about missing inputs!  Yay!\n",
    "\n",
    "name = input(\"Finally, what is your name?\")\n",
    "\n",
    "total(name, agree.result, ideas.result, energy.result, rules.result)"
   ]
  },
  {
   "cell_type": "code",
   "execution_count": null,
   "metadata": {
    "scrolled": true
   },
   "outputs": [],
   "source": [
    "# Let's look again at what's in our data now.\n",
    "data"
   ]
  },
  {
   "cell_type": "code",
   "execution_count": null,
   "metadata": {},
   "outputs": [],
   "source": [
    "# Using our creature compendium, let's look at the closest results we could\n",
    "# give the latest person to take this test.\n",
    "\n",
    "# First we create a \"Code\" out of the four numbers, in order:\n",
    "code = str(agree) + str(ideas) + str(energy) + str(rules)\n",
    "print(\"Your creature code is \"+code)\n"
   ]
  },
  {
   "cell_type": "code",
   "execution_count": null,
   "metadata": {},
   "outputs": [],
   "source": []
  },
  {
   "cell_type": "code",
   "execution_count": null,
   "metadata": {},
   "outputs": [],
   "source": []
  },
  {
   "cell_type": "code",
   "execution_count": null,
   "metadata": {},
   "outputs": [],
   "source": []
  },
  {
   "cell_type": "code",
   "execution_count": 24,
   "metadata": {},
   "outputs": [
    {
     "data": {
      "image/png": "[encoded data removed]",
      "text/plain": [
       "<Figure size 432x288 with 1 Axes>"
      ]
     },
     "metadata": {
      "needs_background": "light"
     },
     "output_type": "display_data"
    }
   ],
   "source": [
    "fig = plt.figure()\n",
    "ax = fig.add_axes([0,0,1,1])\n",
    "ax.axis('equal')\n",
    "opts = [1, 2, 3, 4]\n",
    "#ax.pie(data[\"agree\"], opts,autopct='%1.2f%%')\n",
    "plt.show()\n",
    "\n",
    "ax.pie?"
   ]
  },
  {
   "cell_type": "code",
   "execution_count": null,
   "metadata": {},
   "outputs": [],
   "source": []
  }
 ],
 "metadata": {
  "kernelspec": {
   "display_name": "Python 3",
   "language": "python",
   "name": "python3"
  },
  "language_info": {
   "codemirror_mode": {
    "name": "ipython",
    "version": 3
   },
   "file_extension": ".py",
   "mimetype": "text/x-python",
   "name": "python",
   "nbconvert_exporter": "python",
   "pygments_lexer": "ipython3",
   "version": "3.7.5"
  }
 },
 "nbformat": 4,
 "nbformat_minor": 4
}
