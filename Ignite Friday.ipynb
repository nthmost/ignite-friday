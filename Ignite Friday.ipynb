{
 "cells": [
  {
   "cell_type": "code",
   "execution_count": 31,
   "metadata": {},
   "outputs": [],
   "source": [
    "# These are popular Python libraries for using data.\n",
    "import pandas as pd\n",
    "from matplotlib import pyplot as plt\n",
    "\n",
    "# A private collection of scripts that will help us collect and shape the data.\n",
    "import wastedspace\n",
    "\n",
    "# Fancy widgets we'll use later to collect user input\n",
    "import ipywidgets as widgets"
   ]
  },
  {
   "cell_type": "code",
   "execution_count": 45,
   "metadata": {},
   "outputs": [],
   "source": [
    "# CREATURE COMPENDIUM\n",
    "# What are the personalities someone could be when they take the test?\n",
    "#\n",
    "# Each creature \"personality\" is mapped to a code.\n",
    "# \n",
    "# Our goal is to test people to see which creature they most closely match.\n",
    "#\n",
    "# Uncomment this line and press Enter to look at the data.\n",
    "# wastedspace.CREATURES"
   ]
  },
  {
   "cell_type": "code",
   "execution_count": 46,
   "metadata": {},
   "outputs": [],
   "source": [
    "# A place to keep personality test data: simple Python dictionary\n",
    "data = {\"name\":[],\n",
    "        \"agree\":[],\n",
    "        \"energy\":[],\n",
    "        \"ideas\":[],\n",
    "        \"rules\":[],\n",
    "        }"
   ]
  },
  {
   "cell_type": "code",
   "execution_count": 47,
   "metadata": {},
   "outputs": [],
   "source": [
    "# function to append the current user's results.\n",
    "def total(name, agree, energy, ideas, rules):\n",
    "    if not (name and agree and energy and ideas and rules):\n",
    "        # complain!\n",
    "        raise Exception(\"One or more inputs were left blank!\")\n",
    "    \n",
    "    data[\"name\"].append(name)\n",
    "    data[\"agree\"].append(agree)\n",
    "    data[\"energy\"].append(energy)\n",
    "    data[\"ideas\"].append(ideas)\n",
    "    data[\"rules\"].append(rules)"
   ]
  },
  {
   "cell_type": "code",
   "execution_count": 35,
   "metadata": {
    "scrolled": true
   },
   "outputs": [
    {
     "name": "stdout",
     "output_type": "stream",
     "text": [
      "What's your name?\n",
      "Do you agree?\n",
      "Do you have any ideas?\n",
      "What's your energy level right now?\n",
      "How do you feel about rules right now?\n"
     ]
    }
   ],
   "source": [
    "# First stab at a User Interface: using \"input\" to capture information\n",
    "\n",
    "name = input(\"What's your name?\")\n",
    "\n",
    "agree = input(\"Do you agree?\")\n",
    "\n",
    "ideas = input(\"Do you have any ideas?\")\n",
    "\n",
    "energy = input(\"What's your energy level right now?\")\n",
    "\n",
    "rules = input(\"How do you feel about rules right now?\")"
   ]
  },
  {
   "cell_type": "code",
   "execution_count": 36,
   "metadata": {},
   "outputs": [
    {
     "name": "stdout",
     "output_type": "stream",
     "text": [
      "One or more inputs were left blank!\n"
     ]
    }
   ],
   "source": [
    "# Check user input and complain if something was left empty.\n",
    "try:\n",
    "    total(name, agree, energy, ideas, rules)\n",
    "except Exception as err:\n",
    "    print(err)"
   ]
  },
  {
   "cell_type": "code",
   "execution_count": 37,
   "metadata": {},
   "outputs": [
    {
     "data": {
      "text/plain": [
       "{'name': [], 'agree': [], 'energy': [], 'ideas': [], 'rules': []}"
      ]
     },
     "execution_count": 37,
     "metadata": {},
     "output_type": "execute_result"
    }
   ],
   "source": [
    "# Let's look at the data.  Do we like it?\n",
    "# \n",
    "# Tip: If we've made a mess of things we can clear the data easily using the \"clear\" method.\n",
    "# data.clear()\n",
    "\n",
    "data"
   ]
  },
  {
   "cell_type": "code",
   "execution_count": 38,
   "metadata": {},
   "outputs": [
    {
     "name": "stdout",
     "output_type": "stream",
     "text": [
      "Tiny personality quiz!\n",
      "Rank yourself on each metric on a scale from 1 to 4.\n"
     ]
    },
    {
     "data": {
      "application/vnd.jupyter.widget-view+json": {
       "model_id": "20a2df762a8d43d4811cc93e68e18350",
       "version_major": 2,
       "version_minor": 0
      },
      "text/plain": [
       "interactive(children=(IntSlider(value=2, description='agree', max=4, min=1), Output()), _dom_classes=('widget-…"
      ]
     },
     "metadata": {},
     "output_type": "display_data"
    },
    {
     "data": {
      "application/vnd.jupyter.widget-view+json": {
       "model_id": "e5f26f1119e34f3b90a000d9ab1dec68",
       "version_major": 2,
       "version_minor": 0
      },
      "text/plain": [
       "interactive(children=(IntSlider(value=2, description='ideas', max=4, min=1), Output()), _dom_classes=('widget-…"
      ]
     },
     "metadata": {},
     "output_type": "display_data"
    },
    {
     "data": {
      "application/vnd.jupyter.widget-view+json": {
       "model_id": "4d1b3a38d34d4ea4a947f73093aabdb4",
       "version_major": 2,
       "version_minor": 0
      },
      "text/plain": [
       "interactive(children=(IntSlider(value=2, description='energy', max=4, min=1), Output()), _dom_classes=('widget…"
      ]
     },
     "metadata": {},
     "output_type": "display_data"
    },
    {
     "data": {
      "application/vnd.jupyter.widget-view+json": {
       "model_id": "016ade94ff194340b3068cff02ed50a7",
       "version_major": 2,
       "version_minor": 0
      },
      "text/plain": [
       "interactive(children=(IntSlider(value=2, description='rules', max=4, min=1), Output()), _dom_classes=('widget-…"
      ]
     },
     "metadata": {},
     "output_type": "display_data"
    }
   ],
   "source": [
    "# What a pain!\n",
    "# There must be a better way to collect user input. And... there is!\n",
    "#\n",
    "# Instead of telling users they can input whatever they want, we will\n",
    "# CODE their answers by having them select from 4 mapped choices.\n",
    "\n",
    "from ipywidgets import interactive\n",
    "from IPython.display import display\n",
    "\n",
    "# These functions makes the interactive sliders work. \n",
    "def f_agree(agree):\n",
    "    return agree\n",
    "\n",
    "def f_ideas(ideas):\n",
    "    return ideas\n",
    "\n",
    "def f_energy(energy):\n",
    "    return energy\n",
    "\n",
    "def f_rules(rules):\n",
    "    return rules\n",
    "\n",
    "print(\"Tiny personality quiz!\")\n",
    "print(\"Rank yourself on each metric on a scale from 1 to 4.\")\n",
    "\n",
    "# Each slider's min value is 1, and max value is 4\n",
    "# The default value is 2 (we can change that if we want).\n",
    "agree = interactive(f_agree, agree=(1,4))\n",
    "display(agree)\n",
    "\n",
    "ideas = interactive(f_ideas, ideas=(1,4))\n",
    "display(ideas)\n",
    "\n",
    "energy = interactive(f_energy, energy=(1,4))\n",
    "display(energy)\n",
    "\n",
    "rules = interactive(f_rules, rules=(1,4))\n",
    "display(rules)"
   ]
  },
  {
   "cell_type": "code",
   "execution_count": 39,
   "metadata": {},
   "outputs": [
    {
     "name": "stdout",
     "output_type": "stream",
     "text": [
      "2\n",
      "2\n",
      "2\n",
      "2\n"
     ]
    }
   ],
   "source": [
    "# Just to verify that the sliders actually do something...\n",
    "\n",
    "print(agree.result)\n",
    "print(ideas.result)\n",
    "print(energy.result)\n",
    "print(rules.result)"
   ]
  },
  {
   "cell_type": "code",
   "execution_count": null,
   "metadata": {},
   "outputs": [],
   "source": [
    "# We can use our existing \"total\" function without changing it.\n",
    "# And since all of our inputs have default values, we don't have\n",
    "# to worry about missing inputs!  Yay!\n",
    "\n",
    "name = input(\"Finally, what is your name?\")\n",
    "\n",
    "total(name, agree.result, ideas.result, energy.result, rules.result)"
   ]
  },
  {
   "cell_type": "code",
   "execution_count": null,
   "metadata": {
    "scrolled": true
   },
   "outputs": [],
   "source": [
    "# Let's look again at what's in our data now.\n",
    "data"
   ]
  },
  {
   "cell_type": "code",
   "execution_count": 69,
   "metadata": {},
   "outputs": [
    {
     "name": "stdout",
     "output_type": "stream",
     "text": [
      "Your creature code is 2222\n"
     ]
    }
   ],
   "source": [
    "# Using our creature compendium, let's look at the closest results we could\n",
    "# give the latest person to take this test.\n",
    "\n",
    "# First we create a \"Code\" out of the four numbers, in order:\n",
    "code = str(agree.result) + str(ideas.result) + str(energy.result) + str(rules.result)\n",
    "code = int(code)\n",
    "print(\"Your creature code is\", code)"
   ]
  },
  {
   "cell_type": "code",
   "execution_count": 70,
   "metadata": {},
   "outputs": [],
   "source": [
    "# Now we need to find out which creature or creatures we are most like!\n",
    "# \n",
    "# But we can't have 4,444 different creature options.  We're going to \n",
    "# need to come up with methods to find the \"nearest neighbor\".\n",
    "#\n",
    "# Since we're dealing with whole numbers (integers), we can just use \n",
    "# simple arithmetic inside a loop."
   ]
  },
  {
   "cell_type": "code",
   "execution_count": 78,
   "metadata": {},
   "outputs": [],
   "source": [
    "# UPPER MATCH: Which creatures codes are \"nearest\" to ours if we ADD numbers?\n",
    "# \n",
    "# A \"while\" loop runs until its truth condition becomes False.\n",
    "# \n",
    "# Think about what's happening each time this code completes a loop.\n",
    "#  Notices what's different about upper_match as compared to lower_match\n",
    "\n",
    "def upper_match(code):\n",
    "    while code < 4444:\n",
    "        code += 1\n",
    "        if code in wastedspace.CREATURES:\n",
    "            return wastedspace.CREATURES[code]"
   ]
  },
  {
   "cell_type": "code",
   "execution_count": 79,
   "metadata": {},
   "outputs": [],
   "source": [
    "# LOWER MATCH: Which creatures codes are \"nearest\" to ours if we SUBTRACT numbers?\n",
    "# \n",
    "# A \"while\" loop runs until its truth condition becomes False.\n",
    "# \n",
    "# Think about what's happening each time this code completes a loop.\n",
    "#  Notices what's different about lower_match as compared to upper_match\n",
    "\n",
    "def lower_match(code):\n",
    "    while code > 1111:\n",
    "        code = code - 1\n",
    "        if code in wastedspace.CREATURES:\n",
    "            return wastedspace.CREATURES[code]"
   ]
  },
  {
   "cell_type": "code",
   "execution_count": 80,
   "metadata": {},
   "outputs": [],
   "source": [
    "# Find an Exact Match in the Creature Compendium. \n",
    "# If there isn't one, return None.\n",
    "\n",
    "def is_match(code):\n",
    "    if code in wastedspace.CREATURES:\n",
    "        return wastedspace.CREATURES[code]\n",
    "    return None"
   ]
  },
  {
   "cell_type": "code",
   "execution_count": 83,
   "metadata": {},
   "outputs": [
    {
     "name": "stdout",
     "output_type": "stream",
     "text": [
      "Here are 2 creatures just like YOU:\n",
      "\n",
      "Zoo Keepers\n",
      "Loose beasts have been out in the party too long. You are the law! Go round them up!\n",
      "\n",
      "Chickens\n",
      "Upset about the Hardboiled Egg Cafe. Take protest signs and insist they name every egg.\n"
     ]
    }
   ],
   "source": [
    "# Now we can calculate the user's creature match!  All that's\n",
    "# left is to make it look a little nicer and neater.\n",
    "\n",
    "def prettyprint_creature(creature):\n",
    "    print()\n",
    "    print(creature['name'])\n",
    "    print(creature['desc'])\n",
    "\n",
    "if is_match(code):\n",
    "    print(\"It's a perfect match!\")\n",
    "    print(wastedspace.CREATURES[code])\n",
    "    \n",
    "else:\n",
    "    up = upper_match(code)\n",
    "    down = lower_match(code)\n",
    "    \n",
    "    print(\"Here are 2 creatures just like YOU:\")\n",
    "    prettyprint_creature(up)\n",
    "    prettyprint_creature(down)"
   ]
  },
  {
   "cell_type": "code",
   "execution_count": null,
   "metadata": {},
   "outputs": [],
   "source": []
  }
 ],
 "metadata": {
  "kernelspec": {
   "display_name": "Python 3",
   "language": "python",
   "name": "python3"
  },
  "language_info": {
   "codemirror_mode": {
    "name": "ipython",
    "version": 3
   },
   "file_extension": ".py",
   "mimetype": "text/x-python",
   "name": "python",
   "nbconvert_exporter": "python",
   "pygments_lexer": "ipython3",
   "version": "3.7.5"
  }
 },
 "nbformat": 4,
 "nbformat_minor": 4
}
