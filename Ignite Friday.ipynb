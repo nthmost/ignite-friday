{
 "cells": [
  {
   "cell_type": "code",
   "execution_count": 68,
   "metadata": {},
   "outputs": [
    {
     "ename": "ModuleNotFoundError",
     "evalue": "No module named 'matplotlib'",
     "output_type": "error",
     "traceback": [
      "\u001b[0;31m---------------------------------------------------------------------------\u001b[0m",
      "\u001b[0;31mModuleNotFoundError\u001b[0m                       Traceback (most recent call last)",
      "\u001b[0;32m<ipython-input-68-7a77e11da937>\u001b[0m in \u001b[0;36m<module>\u001b[0;34m\u001b[0m\n\u001b[1;32m      1\u001b[0m \u001b[0;31m# A very simple personality test using only Python.\u001b[0m\u001b[0;34m\u001b[0m\u001b[0;34m\u001b[0m\u001b[0;34m\u001b[0m\u001b[0m\n\u001b[1;32m      2\u001b[0m \u001b[0;32mimport\u001b[0m \u001b[0mpandas\u001b[0m \u001b[0;32mas\u001b[0m \u001b[0mpd\u001b[0m\u001b[0;34m\u001b[0m\u001b[0;34m\u001b[0m\u001b[0m\n\u001b[0;32m----> 3\u001b[0;31m \u001b[0;32mfrom\u001b[0m \u001b[0mmatplotlib\u001b[0m \u001b[0;32mimport\u001b[0m \u001b[0mpyplot\u001b[0m \u001b[0;32mas\u001b[0m \u001b[0mplt\u001b[0m\u001b[0;34m\u001b[0m\u001b[0;34m\u001b[0m\u001b[0m\n\u001b[0m",
      "\u001b[0;31mModuleNotFoundError\u001b[0m: No module named 'matplotlib'"
     ]
    }
   ],
   "source": [
    "# A very simple personality test using only Python.\n",
    "import pandas as pd\n",
    "from matplotlib import pyplot as plt"
   ]
  },
  {
   "cell_type": "code",
   "execution_count": null,
   "metadata": {},
   "outputs": [],
   "source": [
    "# CREATURE COMPENDIUM\n",
    "# What are the personalities someone could be when they take the test?\n",
    "#"
   ]
  },
  {
   "cell_type": "code",
   "execution_count": 59,
   "metadata": {},
   "outputs": [],
   "source": [
    "# A place to keep the data: simple Python dictionary\n",
    "data = {\"name\":[],\n",
    "        \"agree\":[],\n",
    "        \"energy\":[],\n",
    "        \"ideas\":[],\n",
    "        \"rules\":[],\n",
    "        }"
   ]
  },
  {
   "cell_type": "code",
   "execution_count": 63,
   "metadata": {},
   "outputs": [],
   "source": [
    "# function to append the current user's results.\n",
    "def total(name, agree, energy, ideas, rules):\n",
    "    if not (name and agree and energy and ideas and rules):\n",
    "        # complain!\n",
    "        raise Exception(\"One or more inputs were left blank!\")\n",
    "    \n",
    "    data[\"name\"].append(name)\n",
    "    data[\"agree\"].append(agree)\n",
    "    data[\"energy\"].append(energy)\n",
    "    data[\"ideas\"].append(ideas)\n",
    "    data[\"rules\"].append(rules)"
   ]
  },
  {
   "cell_type": "code",
   "execution_count": 62,
   "metadata": {
    "scrolled": true
   },
   "outputs": [
    {
     "name": "stdout",
     "output_type": "stream",
     "text": [
      "What's your name?\n",
      "Do you agree?\n",
      "What's your energy level right now?\n",
      "Do you have any ideas?\n",
      "How do you feel about rules right now?\n"
     ]
    }
   ],
   "source": [
    "# First stab at a User Interface: using \"input\" to capture information\n",
    "\n",
    "name = input(\"What's your name?\")\n",
    "\n",
    "agree = input(\"Do you agree?\")\n",
    "\n",
    "energy = input(\"What's your energy level right now?\")\n",
    "\n",
    "ideas = input(\"Do you have any ideas?\")\n",
    "\n",
    "rules = input(\"How do you feel about rules right now?\")"
   ]
  },
  {
   "cell_type": "code",
   "execution_count": 61,
   "metadata": {},
   "outputs": [
    {
     "name": "stdout",
     "output_type": "stream",
     "text": [
      "You're missing one of the inputs!\n"
     ]
    }
   ],
   "source": [
    "# Check user input and complain if something was left empty.\n",
    "try:\n",
    "    total(name, agree, energy, ideas, rules)\n",
    "except Exception as err:\n",
    "    print(err)"
   ]
  },
  {
   "cell_type": "code",
   "execution_count": 65,
   "metadata": {},
   "outputs": [
    {
     "data": {
      "text/plain": [
       "{'name': [], 'agree': [], 'energy': [], 'ideas': [], 'rules': []}"
      ]
     },
     "execution_count": 65,
     "metadata": {},
     "output_type": "execute_result"
    }
   ],
   "source": [
    "# Let's look at the data.  Do we like it?\n",
    "data"
   ]
  },
  {
   "cell_type": "code",
   "execution_count": 66,
   "metadata": {},
   "outputs": [],
   "source": [
    "# There must be a better way to collect user input. And... there is!\n",
    "#\n",
    "# Instead of telling users they can input whatever they want, we will\n",
    "# CODE their answers by having them select from 4 mapped choices.\n"
   ]
  },
  {
   "cell_type": "code",
   "execution_count": 56,
   "metadata": {},
   "outputs": [],
   "source": [
    "# If we've made a mess of things we can clear the data easily using the \"clear\" method.\n",
    "# data.clear()"
   ]
  },
  {
   "cell_type": "code",
   "execution_count": 67,
   "metadata": {},
   "outputs": [],
   "source": [
    "# OK now let's do something fancy using Jupyter widgets."
   ]
  },
  {
   "cell_type": "code",
   "execution_count": null,
   "metadata": {},
   "outputs": [],
   "source": []
  }
 ],
 "metadata": {
  "kernelspec": {
   "display_name": "Python 3",
   "language": "python",
   "name": "python3"
  },
  "language_info": {
   "codemirror_mode": {
    "name": "ipython",
    "version": 3
   },
   "file_extension": ".py",
   "mimetype": "text/x-python",
   "name": "python",
   "nbconvert_exporter": "python",
   "pygments_lexer": "ipython3",
   "version": "3.7.5"
  }
 },
 "nbformat": 4,
 "nbformat_minor": 4
}
